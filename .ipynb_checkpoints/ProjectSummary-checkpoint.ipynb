{
 "cells": [
  {
   "cell_type": "markdown",
   "metadata": {},
   "source": [
    "# Project Summary"
   ]
  },
  {
   "cell_type": "markdown",
   "metadata": {},
   "source": [
    "### Section 1: Department Wise Summary"
   ]
  },
  {
   "cell_type": "markdown",
   "metadata": {},
   "source": [
    "* Nearly 90% of the employees belong to 3 departments, they are 1)Sales, 2)Development and 3)Research & Development\n",
    "* Employees in Department 'Development' tend to perfrom **best**(on an average their rating is 3.09), they account 30% of employees    \n",
    "* Employees in Department 'Finance'  tend to perfrom **poorly**(on an average their rating is 2.78), **however** they account only 4% of employees  \n",
    "* Employees in Department 'Sales'    tend to perfrom **poorly**(on an average their rating is 2.86), **however** they account 31% of employees  \n",
    "* Among all the low(performance rating = 2) rated employees, **maximum** percentage are in Department Sales and Finance   \n",
    "* Among all the low(performance rating = 2) rated employees, **minimum** percentage are in Department Development and Data Science   \n",
    "* Among all the high(performance rating = 4) rated employees, **maximum** percentage are in Department Development  \n",
    "* Average Environment satisfaction seems to vary between 2.63 and 2.95, where as actual satisfaction rating range between 1 to 4.   \n",
    "* There is no significant difference in the average environment satisfaction across department.  \n",
    "* Data Science Department(with less than 2% of the employees) had maximum salary hike on average.    \n",
    "* Human Resource Department(with 4.5% of the employees) had minimum salary hike on average. \n",
    "* On average, employees from Sales department(31% employees) get promoted every 2.5 years   \n",
    "* On average, employees from 3 departments(Finance, HR, Data Science) accounting for about 10% employees get promoted in less than 2 years   \n",
    "* Employees from Data Science department have spent least number of years in current role(3 years on an average).   \n",
    "* Employees from Finance and Sales department spend more than 4.5 years in same role on an average.\n",
    "* Average age in each department is almost same  "
   ]
  },
  {
   "cell_type": "markdown",
   "metadata": {},
   "source": [
    "### Section 2: Top factors effecting employee performance"
   ]
  },
  {
   "cell_type": "markdown",
   "metadata": {},
   "source": [
    "From the Pearson Correlation heatmap,   \n",
    "the top 3 feature that affect Employees performance are :      \n",
    "1. Employee Environment Satification   \n",
    "2. Employee Last Salary Hike   \n",
    "3. Number of Years Since employee got promoted    \n",
    "   \n",
    "Using XGBoost Machine Learning algorithm, we figured out that the top 3 features affecting employee performance are       \n",
    "same as those features found out by correlation   \n",
    "   \n",
    "Final Conclusion:\n",
    "Top 3 features affecting empoyee performance are     \n",
    "1 Employee Environment Satisfaction     \n",
    "2 Employee Last Salary Hike Percent     \n",
    "3 Years Since Employee Last Promoted     \n"
   ]
  },
  {
   "cell_type": "markdown",
   "metadata": {},
   "source": [
    "### Section 3: ML model"
   ]
  },
  {
   "cell_type": "markdown",
   "metadata": {},
   "source": [
    "Have developed Machine learning model to predict the performance of both existing employees and new hire  \n",
    "For existing employees:   \n",
    "**Test data best accuracy score = 93.06%**  \n",
    "Algorith used best accuracy score : Random Forest(default parameters)   \n",
    "Features used best accuracy score : All  \n",
    "Encoding used best accuracy score : Label encoding(one hot encoding resulted in lower score)  \n",
    "Other technique used best accuracy score : Smote technique to balance data  \n",
    "  \n",
    "  \n",
    "For new hires:\n",
    "**Test data best accuracy score = 64.72**  \n",
    "Algorith used best accuracy score : XGBoost(Non default parameters used)   \n",
    "Features used best accuracy score : Used only those features available during employee hire \n",
    "Encoding used best accuracy score : Label encoding(one hot encoding resulted in lower score)  \n",
    "Other technique used best accuracy score : Smote technique to balance data  \n",
    "  \n",
    "Parameters used for tuning XGBoost:   \n",
    "'colsample_bylevel': 0.8,  \n",
    " 'colsample_bytree': 0.8,  \n",
    " 'learning_rate': 0.4,  \n",
    " 'max_depth': 8,  \n",
    " 'min_child_weight': 2,  \n",
    " 'n_estimators': 100,  \n",
    " 'subsample': 0.9  "
   ]
  },
  {
   "cell_type": "markdown",
   "metadata": {},
   "source": [
    "### Section 4: Other Insights and recommendations"
   ]
  },
  {
   "cell_type": "markdown",
   "metadata": {},
   "source": [
    "There are many insights recorded in each of the 5 Jupyter notebooks  "
   ]
  },
  {
   "cell_type": "markdown",
   "metadata": {},
   "source": [
    "### Section 5: Project Reference"
   ]
  },
  {
   "cell_type": "markdown",
   "metadata": {},
   "source": [
    "#### Requirement 1: Department wise performances"
   ]
  },
  {
   "cell_type": "raw",
   "metadata": {},
   "source": [
    "Summary of Department wise performance is in document:\n",
    "\"Section 1\" of ProjectSummary.ipynb -> Department Wise Summary"
   ]
  },
  {
   "cell_type": "raw",
   "metadata": {},
   "source": [
    "Details of Department wise performance is in Jupyter Notebook: \n",
    "“Section 1” of visualize.ipynb\n",
    "“Section 2” of visualize.ipynb -> has more Departmentwise insights.\n"
   ]
  },
  {
   "cell_type": "markdown",
   "metadata": {},
   "source": [
    "#### Requirement 2: Top Three Important Factors effecting employee performance "
   ]
  },
  {
   "cell_type": "raw",
   "metadata": {},
   "source": [
    "Top 3 important factors effecting employee performance is summarized in document:\n",
    "\"Section 2\" of ProjectSummary.docx -> Top factors effecting employee performance\n"
   ]
  },
  {
   "cell_type": "raw",
   "metadata": {},
   "source": [
    "Details of Top 3 and other important features affecting employee performance is in Jupyter Notebook:   \n",
    "“Section 2” of data_exploratory_analysis.ipynb"
   ]
  },
  {
   "cell_type": "markdown",
   "metadata": {},
   "source": [
    "#### Requirement 3: A trained model "
   ]
  },
  {
   "cell_type": "markdown",
   "metadata": {},
   "source": [
    "This model should predict the employee performance based on factors as inputs. (This will be used to hire employees) "
   ]
  },
  {
   "cell_type": "raw",
   "metadata": {},
   "source": [
    "ML model to predict the performance of an existing employee\n",
    "\"Section 1\" of train_model.ipynb"
   ]
  },
  {
   "cell_type": "raw",
   "metadata": {},
   "source": [
    "What features are relevant for predicting performance of new hire is analysed in    \n",
    "\"Setion 2\" of data_processing.ipynb"
   ]
  },
  {
   "cell_type": "raw",
   "metadata": {},
   "source": [
    "ML model to predict the performance of new hire\n",
    "\"Section 2\" of train_model.ipynb"
   ]
  },
  {
   "cell_type": "markdown",
   "metadata": {},
   "source": [
    "#### Requirement 4: Recommendations"
   ]
  },
  {
   "cell_type": "raw",
   "metadata": {},
   "source": [
    "Recommendations to improve the employee performance based on insights from analysis is at\n",
    "\"Section 3\" of ProjectSummary.docx -> Other Insights and recommendations"
   ]
  }
 ],
 "metadata": {
  "kernelspec": {
   "display_name": "Python 3",
   "language": "python",
   "name": "python3"
  },
  "language_info": {
   "codemirror_mode": {
    "name": "ipython",
    "version": 3
   },
   "file_extension": ".py",
   "mimetype": "text/x-python",
   "name": "python",
   "nbconvert_exporter": "python",
   "pygments_lexer": "ipython3",
   "version": "3.7.3"
  }
 },
 "nbformat": 4,
 "nbformat_minor": 4
}
